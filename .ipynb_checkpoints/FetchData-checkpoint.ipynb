{
 "cells": [
  {
   "cell_type": "code",
   "execution_count": null,
   "metadata": {
    "collapsed": true
   },
   "outputs": [],
   "source": []
  },
  {
   "cell_type": "code",
   "execution_count": 2,
   "metadata": {
    "collapsed": false
   },
   "outputs": [
    {
     "ename": "SyntaxError",
     "evalue": "invalid syntax (<ipython-input-2-a276e242cf2e>, line 16)",
     "output_type": "error",
     "traceback": [
      "\u001b[1;36m  File \u001b[1;32m\"<ipython-input-2-a276e242cf2e>\"\u001b[1;36m, line \u001b[1;32m16\u001b[0m\n\u001b[1;33m    while i < 1:\u001b[0m\n\u001b[1;37m        ^\u001b[0m\n\u001b[1;31mSyntaxError\u001b[0m\u001b[1;31m:\u001b[0m invalid syntax\n"
     ]
    }
   ],
   "source": [
    "from __future__ import unicode_literals\n",
    "import requests\n",
    "from requests_oauthlib import OAuth1\n",
    "import argparse\n",
    "import json\n",
    "import os\n",
    "from time import gmtime, strftime\n",
    "import time\n",
    "import os\n",
    "import glob\n",
    "\n",
    "i = 0\n",
    "\n",
    "#key=QfgSYwzvIpLIqngtwggFPg((\n",
    "\n",
    "while i < 1:\n",
    "\n",
    "    searchUrl = \"https://api.stackexchange.com/2.2/badges?key=QfgSYwzvIpLIqngtwggFPg((&page=1&pagesize=100&order=desc&sort=rank&site=stackoverflow\";\n",
    "    r = requests.get(searchUrl, stream = True)\n",
    "\n",
    "    #print(r.content)\n",
    "    rec = dict(r.json())\n",
    "    count = 0\n",
    "    for item in rec[\"items\"]:\n",
    "        print (item)\n",
    "    \n",
    "    print(count)\n",
    "\n",
    "    name = \"badges\"\n",
    "\n",
    "    def new_folder(name):\n",
    "        if not os.path.exists(name):\n",
    "            os.makedirs(name)\n",
    "        \n",
    "    for directory in os.listdir(): \n",
    "        if name!=directory:\n",
    "            new_folder(name) \n",
    "                \n",
    "    fname = strftime(\"%Y-%m-%d-%H-%M-%S\", gmtime())\n",
    "    fname = name + \"\\\\\" + fname + '.json';\n",
    "\n",
    "    \n",
    "    json.dumps(rec)\n",
    "    with open(fname ,'w')as f:\n",
    "        json.dump(rec, f)\n",
    "    \n",
    "    #i = i+1\n",
    "    #time.sleep(120)\n",
    "    \n",
    "    #P = json.load(open(fname))\n",
    "    #print(P)"
   ]
  }
 ],
 "metadata": {
  "anaconda-cloud": {},
  "kernelspec": {
   "display_name": "Python [Root]",
   "language": "python",
   "name": "Python [Root]"
  },
  "language_info": {
   "codemirror_mode": {
    "name": "ipython",
    "version": 3
   },
   "file_extension": ".py",
   "mimetype": "text/x-python",
   "name": "python",
   "nbconvert_exporter": "python",
   "pygments_lexer": "ipython3",
   "version": "3.5.2"
  }
 },
 "nbformat": 4,
 "nbformat_minor": 0
}
